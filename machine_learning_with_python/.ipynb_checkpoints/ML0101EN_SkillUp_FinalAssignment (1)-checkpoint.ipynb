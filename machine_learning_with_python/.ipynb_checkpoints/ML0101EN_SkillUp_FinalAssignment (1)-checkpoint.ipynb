{
 "cells": [
  {
   "cell_type": "code",
   "execution_count": null,
   "id": "53b34b03-554e-4724-9cee-519865fcfd00",
   "metadata": {},
   "outputs": [],
   "source": [
    "!pip install pandas matplotlib numpy scipy"
   ]
  },
  {
   "cell_type": "code",
   "execution_count": 1,
   "id": "1ec700d4-aa0d-4fad-b426-456f7f2aa8da",
   "metadata": {},
   "outputs": [],
   "source": [
    "import pandas as pd\n",
    "import matplotlib\n",
    "import numpy as np\n",
    "import scipy"
   ]
  },
  {
   "cell_type": "code",
   "execution_count": 2,
   "id": "130d86e4-c2cd-423e-9a07-274698eba087",
   "metadata": {},
   "outputs": [],
   "source": [
    "# For dataset\n",
    "from sklearn.model_selection import train_test_split\n",
    "\n",
    "seed = 1234\n",
    "# Define the column names\n",
    "column_names = ['CRIM', 'ZN', 'INDUS', 'CHAS', 'NOX', 'RM', 'AGE', 'DIS', 'RAD', 'TAX', 'PTRATIO', 'B', 'LSTAT', 'MEDV']\n",
    "\n",
    "# Load the Boston Housing dataset\n",
    "boston = pd.read_csv('https://archive.ics.uci.edu/ml/machine-learning-databases/housing/housing.data', header=None, delimiter=r\"\\s+\", names=column_names)\n",
    "\n",
    "# Split the dataset into features and target variable\n",
    "X = boston.drop('MEDV', axis=1)\n",
    "y = boston['MEDV']"
   ]
  },
  {
   "cell_type": "code",
   "execution_count": 3,
   "id": "0e32678b-9edb-42ee-9718-e2a9558cbef0",
   "metadata": {},
   "outputs": [],
   "source": [
    "# 1. Splitting the dataset into training and testing data for regression (3 marks)\n",
    "X_train, X_test, y_train, y_test = train_test_split(X, y, test_size=0.2, random_state=seed)"
   ]
  },
  {
   "cell_type": "code",
   "execution_count": 4,
   "id": "9d2ea2b6-32fd-45dd-86ee-2f15efe9e326",
   "metadata": {},
   "outputs": [
    {
     "name": "stdout",
     "output_type": "stream",
     "text": [
      "Mean Absolute Error:  3.578934913833636\n",
      "Mean Squared Error:  23.964571384956887\n",
      "Root Mean Squared Error:  4.895362232251755\n",
      "R^2 Score:  0.7665382927362872\n"
     ]
    }
   ],
   "source": [
    "# 2. Building and training a model using Linear Regression and calculating evaluation metrics (8 marks)\n",
    "from sklearn.linear_model import LinearRegression\n",
    "from sklearn import metrics\n",
    "\n",
    "# Create a Linear Regression model\n",
    "lr = LinearRegression()\n",
    "\n",
    "# Train the model\n",
    "lr.fit(X_train, y_train)\n",
    "\n",
    "# Predict the test set results\n",
    "y_pred = lr.predict(X_test)\n",
    "\n",
    "# Calculate evaluation metrics\n",
    "mae = metrics.mean_absolute_error(y_test, y_pred)\n",
    "mse = metrics.mean_squared_error(y_test, y_pred)\n",
    "rmse = np.sqrt(metrics.mean_squared_error(y_test, y_pred))\n",
    "r2 = metrics.r2_score(y_test, y_pred)\n",
    "\n",
    "print(\"Mean Absolute Error: \", mae)\n",
    "print(\"Mean Squared Error: \", mse)\n",
    "print(\"Root Mean Squared Error: \", rmse)\n",
    "print(\"R^2 Score: \", r2)"
   ]
  },
  {
   "cell_type": "code",
   "execution_count": 5,
   "id": "c60ed597-e0af-4233-a2db-402470a2d876",
   "metadata": {},
   "outputs": [
    {
     "name": "stdout",
     "output_type": "stream",
     "text": [
      "   Mean Absolute Error  Mean Squared Error  Root Mean Squared Error  R^2 Score\n",
      "0             3.578935           23.964571                 4.895362   0.766538\n"
     ]
    }
   ],
   "source": [
    "# 3. Creating a final regression report/table of evaluation metrics (3 marks)\n",
    "# Create a dictionary of metrics\n",
    "metrics_dict = {'Mean Absolute Error': [mae], 'Mean Squared Error': [mse], 'Root Mean Squared Error': [rmse], 'R^2 Score': [r2]}\n",
    "\n",
    "# Convert the dictionary to a pandas DataFrame\n",
    "metrics_df = pd.DataFrame(metrics_dict)\n",
    "\n",
    "# Print the DataFrame\n",
    "print(metrics_df)"
   ]
  },
  {
   "cell_type": "code",
   "execution_count": 6,
   "id": "46650c7a-779e-4977-a26a-45246d19a626",
   "metadata": {},
   "outputs": [
    {
     "name": "stdout",
     "output_type": "stream",
     "text": [
      "Accuracy:  1.0\n",
      "F1 Score:  1.0\n",
      "Confusion Matrix: \n",
      " [[ 9  0  0]\n",
      " [ 0 13  0]\n",
      " [ 0  0  8]]\n"
     ]
    }
   ],
   "source": [
    "# 4. Building and training a model using KNN and calculating evaluation metrics (8 marks)\n",
    "from sklearn.datasets import load_iris\n",
    "from sklearn.neighbors import KNeighborsClassifier\n",
    "\n",
    "iris = load_iris()\n",
    "\n",
    "X = iris.data\n",
    "y = iris.target\n",
    "X_train, X_test, y_train, y_test = train_test_split(X, y, test_size=0.2, random_state=seed)\n",
    "\n",
    "knn = KNeighborsClassifier(n_neighbors=3)\n",
    "knn.fit(X_train, y_train)\n",
    "y_pred = knn.predict(X_test)\n",
    "\n",
    "accuracy_knn = metrics.accuracy_score(y_test, y_pred)\n",
    "f1_knn =  metrics.f1_score(y_test, y_pred, average='weighted')\n",
    "cm_knn = metrics.confusion_matrix(y_test, y_pred)\n",
    "print(\"Accuracy: \", accuracy_knn)\n",
    "print(\"F1 Score: \", f1_knn)\n",
    "print(\"Confusion Matrix: \\n\", cm_knn)"
   ]
  },
  {
   "cell_type": "code",
   "execution_count": 7,
   "id": "2c038af3-84df-476c-9333-6d6db4230748",
   "metadata": {},
   "outputs": [
    {
     "name": "stdout",
     "output_type": "stream",
     "text": [
      "Accuracy:  1.0\n",
      "F1 Score:  1.0\n",
      "Confusion Matrix: \n",
      " [[ 9  0  0]\n",
      " [ 0 13  0]\n",
      " [ 0  0  8]]\n"
     ]
    }
   ],
   "source": [
    "# 5. Building and training a model using Decision Trees and calculating evaluation metrics (8 marks)\n",
    "from sklearn.tree import DecisionTreeClassifier\n",
    "\n",
    "# Create a Decision Tree model\n",
    "dt = DecisionTreeClassifier()\n",
    "dt.fit(X_train, y_train)\n",
    "y_pred = dt.predict(X_test)\n",
    "\n",
    "accuracy_dt = metrics.accuracy_score(y_test, y_pred)\n",
    "f1_dt =  metrics.f1_score(y_test, y_pred, average='weighted')\n",
    "cm_dt = metrics.confusion_matrix(y_test, y_pred)\n",
    "print(\"Accuracy: \", accuracy_dt)\n",
    "print(\"F1 Score: \", f1_dt)\n",
    "print(\"Confusion Matrix: \\n\", cm_dt)"
   ]
  },
  {
   "cell_type": "code",
   "execution_count": 8,
   "id": "8ca414b5-6205-4f94-8bf9-4718887b8b47",
   "metadata": {},
   "outputs": [
    {
     "name": "stdout",
     "output_type": "stream",
     "text": [
      "Accuracy:  1.0\n",
      "F1 Score:  1.0\n",
      "Confusion Matrix: \n",
      " [[ 9  0  0]\n",
      " [ 0 13  0]\n",
      " [ 0  0  8]]\n"
     ]
    }
   ],
   "source": [
    "# 6. Building and training a model using Logistic Regression and calculating evaluation metrics (9 marks)\n",
    "from sklearn.linear_model import LogisticRegression\n",
    "\n",
    "log_r = LogisticRegression(max_iter=1000)\n",
    "log_r.fit(X_train, y_train)\n",
    "y_pred = log_r.predict(X_test)\n",
    "\n",
    "accuracy_log_r = metrics.accuracy_score(y_test, y_pred)\n",
    "f1_log_r =  metrics.f1_score(y_test, y_pred, average='weighted')\n",
    "cm_log_r = metrics.confusion_matrix(y_test, y_pred)\n",
    "print(\"Accuracy: \", accuracy_log_r)\n",
    "print(\"F1 Score: \", f1_log_r)\n",
    "print(\"Confusion Matrix: \\n\", cm_log_r)"
   ]
  },
  {
   "cell_type": "code",
   "execution_count": 9,
   "id": "4149cb20-4920-493d-9fe7-ab8367964b00",
   "metadata": {},
   "outputs": [
    {
     "name": "stdout",
     "output_type": "stream",
     "text": [
      "Accuracy:  1.0\n",
      "F1 Score:  1.0\n",
      "Confusion Matrix: \n",
      " [[ 9  0  0]\n",
      " [ 0 13  0]\n",
      " [ 0  0  8]]\n"
     ]
    }
   ],
   "source": [
    "# 7. Building and training a model using SVM and calculating evaluation metrics (8 marks)\n",
    "from sklearn import svm\n",
    "\n",
    "clf = svm.SVC(kernel='linear')\n",
    "clf.fit(X_train, y_train)\n",
    "y_pred = clf.predict(X_test)\n",
    "\n",
    "accuracy_svm = metrics.accuracy_score(y_test, y_pred)\n",
    "f1_svm =  metrics.f1_score(y_test, y_pred, average='weighted')\n",
    "cm_svm = metrics.confusion_matrix(y_test, y_pred)\n",
    "print(\"Accuracy: \", accuracy_svm)\n",
    "print(\"F1 Score: \", f1_svm)\n",
    "print(\"Confusion Matrix: \\n\", cm_svm)"
   ]
  },
  {
   "cell_type": "code",
   "execution_count": 13,
   "id": "18dc73b3-c500-4922-b61f-ee44360605f4",
   "metadata": {},
   "outputs": [
    {
     "name": "stdout",
     "output_type": "stream",
     "text": [
      "            Model  Mean Absolute Error  Mean Squared Error  Root Mean Squared Error  R^2 Score\n",
      "linear_regression             3.578935           23.964571                 4.895362   0.766538\n",
      "____________________________________________________________________________________________________\n",
      "              Model  Accuracy  F1 Score                   Confusion Matrix\n",
      "                knn       1.0       1.0 [[9, 0, 0], [0, 13, 0], [0, 0, 8]]\n",
      "      decision_tree       1.0       1.0 [[9, 0, 0], [0, 13, 0], [0, 0, 8]]\n",
      "logistic_regression       1.0       1.0 [[9, 0, 0], [0, 13, 0], [0, 0, 8]]\n",
      "                svm       1.0       1.0 [[9, 0, 0], [0, 13, 0], [0, 0, 8]]\n"
     ]
    }
   ],
   "source": [
    "# 8. Creating a final classification report/table of evaluation metrics (3 marks)\n",
    "# for Linear Regression\n",
    "metrics_dict = {'Model': ['linear_regression'], 'Mean Absolute Error': [mae], 'Mean Squared Error': [mse], 'Root Mean Squared Error': [rmse], 'R^2 Score': [r2]}\n",
    "metrics_df = pd.DataFrame(metrics_dict)\n",
    "metrics_str = metrics_df.to_string(index=False)\n",
    "print(metrics_str)\n",
    "\n",
    "print('_' * 100)\n",
    "\n",
    "# for others\n",
    "metrics_dict = {'Model': ['knn', 'decision_tree', 'logistic_regression', 'svm'], 'Accuracy': [accuracy_knn, accuracy_dt, accuracy_log_r, accuracy_svm], 'F1 Score': [f1_knn, f1_dt, f1_log_r, f1_svm], 'Confusion Matrix': [cm_knn, cm_dt, cm_log_r, cm_svm]}\n",
    "metrics_df = pd.DataFrame(metrics_dict)\n",
    "metrics_str = metrics_df.to_string(index=False)\n",
    "print(metrics_str)"
   ]
  },
  {
   "cell_type": "code",
   "execution_count": null,
   "id": "3cbbbafa-0020-4416-ab64-0875b43f47c1",
   "metadata": {},
   "outputs": [],
   "source": []
  }
 ],
 "metadata": {
  "kernelspec": {
   "display_name": "Python 3 (ipykernel)",
   "language": "python",
   "name": "python3"
  },
  "language_info": {
   "codemirror_mode": {
    "name": "ipython",
    "version": 3
   },
   "file_extension": ".py",
   "mimetype": "text/x-python",
   "name": "python",
   "nbconvert_exporter": "python",
   "pygments_lexer": "ipython3",
   "version": "3.11.3"
  }
 },
 "nbformat": 4,
 "nbformat_minor": 5
}
