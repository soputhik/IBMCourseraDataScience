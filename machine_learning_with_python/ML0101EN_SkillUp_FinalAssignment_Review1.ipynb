{
  "metadata": {
    "language_info": {
      "codemirror_mode": {
        "name": "python",
        "version": 3
      },
      "file_extension": ".py",
      "mimetype": "text/x-python",
      "name": "python",
      "nbconvert_exporter": "python",
      "pygments_lexer": "ipython3",
      "version": "3.8"
    },
    "kernelspec": {
      "name": "python",
      "display_name": "Pyolite",
      "language": "python"
    }
  },
  "nbformat_minor": 4,
  "nbformat": 4,
  "cells": [
    {
      "cell_type": "markdown",
      "source": "<p style=\"text-align:center\">\n    <a href=\"https://skills.network/?utm_medium=Exinfluencer&utm_source=Exinfluencer&utm_content=000026UJ&utm_term=10006555&utm_id=NA-SkillsNetwork-Channel-SkillsNetworkCoursesIBMDeveloperSkillsNetworkML0101ENSkillsNetwork20718538-2022-01-01\">\n    <img src=\"https://cf-courses-data.s3.us.cloud-object-storage.appdomain.cloud/assets/logos/SN_web_lightmode.png\" width=\"200\" alt=\"Skills Network Logo\"  />\n    </a>\n</p>\n\n<h1 align=\"center\"><font size=\"5\">Final Project: Classification with Python</font></h1>\n",
      "metadata": {}
    },
    {
      "cell_type": "markdown",
      "source": "<h2>Table of Contents</h2>\n<div class=\"alert alert-block alert-info\" style=\"margin-top: 20px\">\n    <ul>\n    <li><a href=\"https://#Section_1\">Instructions</a></li>\n    <li><a href=\"https://#Section_2\">About the Data</a></li>\n    <li><a href=\"https://#Section_3\">Importing Data </a></li>\n    <li><a href=\"https://#Section_4\">Data Preprocessing</a> </li>\n    <li><a href=\"https://#Section_5\">One Hot Encoding </a></li>\n    <li><a href=\"https://#Section_6\">Train and Test Data Split </a></li>\n    <li><a href=\"https://#Section_7\">Train Logistic Regression, KNN, Decision Tree, SVM, and Linear Regression models and return their appropriate accuracy scores</a></li>\n</a></li>\n</div>\n<p>Estimated Time Needed: <strong>180 min</strong></p>\n</div>\n\n<hr>\n",
      "metadata": {}
    },
    {
      "cell_type": "markdown",
      "source": "# Instructions\n",
      "metadata": {}
    },
    {
      "cell_type": "markdown",
      "source": "In this notebook, you will  practice all the classification algorithms that we have learned in this course.\n\n\nBelow, is where we are going to use the classification algorithms to create a model based on our training data and evaluate our testing data using evaluation metrics learned in the course.\n\nWe will use some of the algorithms taught in the course, specifically:\n\n1. Linear Regression\n2. KNN\n3. Decision Trees\n4. Logistic Regression\n5. SVM\n\nWe will evaluate our models using:\n\n1.  Accuracy Score\n2.  Jaccard Index\n3.  F1-Score\n4.  LogLoss\n5.  Mean Absolute Error\n6.  Mean Squared Error\n7.  R2-Score\n\nFinally, you will use your models to generate the report at the end. \n",
      "metadata": {}
    },
    {
      "cell_type": "markdown",
      "source": "# About The Dataset\n",
      "metadata": {}
    },
    {
      "cell_type": "markdown",
      "source": "The original source of the data is Australian Government's Bureau of Meteorology and the latest data can be gathered from [http://www.bom.gov.au/climate/dwo/](http://www.bom.gov.au/climate/dwo/?utm_medium=Exinfluencer&utm_source=Exinfluencer&utm_content=000026UJ&utm_term=10006555&utm_id=NA-SkillsNetwork-Channel-SkillsNetworkCoursesIBMDeveloperSkillsNetworkML0101ENSkillsNetwork20718538-2022-01-01).\n\nThe dataset to be used has extra columns like 'RainToday' and our target is 'RainTomorrow', which was gathered from the Rattle at [https://bitbucket.org/kayontoga/rattle/src/master/data/weatherAUS.RData](https://bitbucket.org/kayontoga/rattle/src/master/data/weatherAUS.RData?utm_medium=Exinfluencer&utm_source=Exinfluencer&utm_content=000026UJ&utm_term=10006555&utm_id=NA-SkillsNetwork-Channel-SkillsNetworkCoursesIBMDeveloperSkillsNetworkML0101ENSkillsNetwork20718538-2022-01-01)\n\n\n",
      "metadata": {}
    },
    {
      "cell_type": "markdown",
      "source": "This dataset contains observations of weather metrics for each day from 2008 to 2017. The **weatherAUS.csv** dataset includes the following fields:\n\n| Field         | Description                                           | Unit            | Type   |\n| ------------- | ----------------------------------------------------- | --------------- | ------ |\n| Date          | Date of the Observation in YYYY-MM-DD                 | Date            | object |\n| Location      | Location of the Observation                           | Location        | object |\n| MinTemp       | Minimum temperature                                   | Celsius         | float  |\n| MaxTemp       | Maximum temperature                                   | Celsius         | float  |\n| Rainfall      | Amount of rainfall                                    | Millimeters     | float  |\n| Evaporation   | Amount of evaporation                                 | Millimeters     | float  |\n| Sunshine      | Amount of bright sunshine                             | hours           | float  |\n| WindGustDir   | Direction of the strongest gust                       | Compass Points  | object |\n| WindGustSpeed | Speed of the strongest gust                           | Kilometers/Hour | object |\n| WindDir9am    | Wind direction averaged of 10 minutes prior to 9am    | Compass Points  | object |\n| WindDir3pm    | Wind direction averaged of 10 minutes prior to 3pm    | Compass Points  | object |\n| WindSpeed9am  | Wind speed averaged of 10 minutes prior to 9am        | Kilometers/Hour | float  |\n| WindSpeed3pm  | Wind speed averaged of 10 minutes prior to 3pm        | Kilometers/Hour | float  |\n| Humidity9am   | Humidity at 9am                                       | Percent         | float  |\n| Humidity3pm   | Humidity at 3pm                                       | Percent         | float  |\n| Pressure9am   | Atmospheric pressure reduced to mean sea level at 9am | Hectopascal     | float  |\n| Pressure3pm   | Atmospheric pressure reduced to mean sea level at 3pm | Hectopascal     | float  |\n| Cloud9am      | Fraction of the sky obscured by cloud at 9am          | Eights          | float  |\n| Cloud3pm      | Fraction of the sky obscured by cloud at 3pm          | Eights          | float  |\n| Temp9am       | Temperature at 9am                                    | Celsius         | float  |\n| Temp3pm       | Temperature at 3pm                                    | Celsius         | float  |\n| RainToday     | If there was rain today                               | Yes/No          | object |\n| RainTomorrow  | If there is rain tomorrow                             | Yes/No          | float  |\n\nColumn definitions were gathered from [http://www.bom.gov.au/climate/dwo/IDCJDW0000.shtml](http://www.bom.gov.au/climate/dwo/IDCJDW0000.shtml?utm_medium=Exinfluencer&utm_source=Exinfluencer&utm_content=000026UJ&utm_term=10006555&utm_id=NA-SkillsNetwork-Channel-SkillsNetworkCoursesIBMDeveloperSkillsNetworkML0101ENSkillsNetwork20718538-2022-01-01)\n\n",
      "metadata": {}
    },
    {
      "cell_type": "markdown",
      "source": "## **Import the required libraries**\n",
      "metadata": {}
    },
    {
      "cell_type": "code",
      "source": "# All Libraries required for this lab are listed below. The libraries pre-installed on Skills Network Labs are commented.\n# !mamba install -qy pandas==1.3.4 numpy==1.21.4 seaborn==0.9.0 matplotlib==3.5.0 scikit-learn==0.20.1\n# Note: If your environment doesn't support \"!mamba install\", use \"!pip install\"",
      "metadata": {},
      "execution_count": null,
      "outputs": []
    },
    {
      "cell_type": "code",
      "source": "# Surpress warnings:\ndef warn(*args, **kwargs):\n    pass\nimport warnings\nwarnings.warn = warn",
      "metadata": {
        "trusted": true
      },
      "execution_count": 1,
      "outputs": []
    },
    {
      "cell_type": "code",
      "source": "#you are running the lab in your  browser, so we will install the libraries using ``piplite``\nimport piplite\nawait piplite.install(['pandas'])\nawait piplite.install(['numpy'])\n",
      "metadata": {
        "trusted": true
      },
      "execution_count": 2,
      "outputs": []
    },
    {
      "cell_type": "code",
      "source": "import pandas as pd\nfrom sklearn.linear_model import LogisticRegression\nfrom sklearn.linear_model import LinearRegression\nfrom sklearn import preprocessing\nimport numpy as np\nfrom sklearn.model_selection import train_test_split\nfrom sklearn.neighbors import KNeighborsClassifier\nfrom sklearn.tree import DecisionTreeClassifier\nfrom sklearn import svm\nfrom sklearn.metrics import jaccard_score\nfrom sklearn.metrics import f1_score\nfrom sklearn.metrics import log_loss\nfrom sklearn.metrics import confusion_matrix, accuracy_score\nimport sklearn.metrics as metrics",
      "metadata": {
        "trusted": true
      },
      "execution_count": 3,
      "outputs": []
    },
    {
      "cell_type": "markdown",
      "source": "### Importing the Dataset\n",
      "metadata": {}
    },
    {
      "cell_type": "code",
      "source": "from pyodide.http import pyfetch\n\nasync def download(url, filename):\n    response = await pyfetch(url)\n    if response.status == 200:\n        with open(filename, \"wb\") as f:\n            f.write(await response.bytes())",
      "metadata": {
        "trusted": true
      },
      "execution_count": 4,
      "outputs": []
    },
    {
      "cell_type": "code",
      "source": "path='https://cf-courses-data.s3.us.cloud-object-storage.appdomain.cloud/IBMDeveloperSkillsNetwork-ML0101EN-SkillUp/labs/ML-FinalAssignment/Weather_Data.csv'",
      "metadata": {
        "trusted": true
      },
      "execution_count": 8,
      "outputs": []
    },
    {
      "cell_type": "code",
      "source": "await download(path, \"Weather_Data.csv\")\nfilename =\"Weather_Data.csv\"",
      "metadata": {
        "trusted": true
      },
      "execution_count": 9,
      "outputs": []
    },
    {
      "cell_type": "code",
      "source": "df = pd.read_csv(\"Weather_Data.csv\")\ndf.head()",
      "metadata": {
        "trusted": true
      },
      "execution_count": 10,
      "outputs": [
        {
          "execution_count": 10,
          "output_type": "execute_result",
          "data": {
            "text/plain": "       Date  MinTemp  MaxTemp  Rainfall  Evaporation  Sunshine WindGustDir  \\\n0  2/1/2008     19.5     22.4      15.6          6.2       0.0           W   \n1  2/2/2008     19.5     25.6       6.0          3.4       2.7           W   \n2  2/3/2008     21.6     24.5       6.6          2.4       0.1           W   \n3  2/4/2008     20.2     22.8      18.8          2.2       0.0           W   \n4  2/5/2008     19.7     25.7      77.4          4.8       0.0           W   \n\n   WindGustSpeed WindDir9am WindDir3pm  ...  Humidity9am  Humidity3pm  \\\n0             41          S        SSW  ...           92           84   \n1             41          W          E  ...           83           73   \n2             41        ESE        ESE  ...           88           86   \n3             41        NNE          E  ...           83           90   \n4             41        NNE          W  ...           88           74   \n\n   Pressure9am  Pressure3pm  Cloud9am  Cloud3pm  Temp9am  Temp3pm  RainToday  \\\n0       1017.6       1017.4         8         8     20.7     20.9        Yes   \n1       1017.9       1016.4         7         7     22.4     24.8        Yes   \n2       1016.7       1015.6         7         8     23.5     23.0        Yes   \n3       1014.2       1011.8         8         8     21.4     20.9        Yes   \n4       1008.3       1004.8         8         8     22.5     25.5        Yes   \n\n   RainTomorrow  \n0           Yes  \n1           Yes  \n2           Yes  \n3           Yes  \n4           Yes  \n\n[5 rows x 22 columns]",
            "text/html": "<div>\n<style scoped>\n    .dataframe tbody tr th:only-of-type {\n        vertical-align: middle;\n    }\n\n    .dataframe tbody tr th {\n        vertical-align: top;\n    }\n\n    .dataframe thead th {\n        text-align: right;\n    }\n</style>\n<table border=\"1\" class=\"dataframe\">\n  <thead>\n    <tr style=\"text-align: right;\">\n      <th></th>\n      <th>Date</th>\n      <th>MinTemp</th>\n      <th>MaxTemp</th>\n      <th>Rainfall</th>\n      <th>Evaporation</th>\n      <th>Sunshine</th>\n      <th>WindGustDir</th>\n      <th>WindGustSpeed</th>\n      <th>WindDir9am</th>\n      <th>WindDir3pm</th>\n      <th>...</th>\n      <th>Humidity9am</th>\n      <th>Humidity3pm</th>\n      <th>Pressure9am</th>\n      <th>Pressure3pm</th>\n      <th>Cloud9am</th>\n      <th>Cloud3pm</th>\n      <th>Temp9am</th>\n      <th>Temp3pm</th>\n      <th>RainToday</th>\n      <th>RainTomorrow</th>\n    </tr>\n  </thead>\n  <tbody>\n    <tr>\n      <th>0</th>\n      <td>2/1/2008</td>\n      <td>19.5</td>\n      <td>22.4</td>\n      <td>15.6</td>\n      <td>6.2</td>\n      <td>0.0</td>\n      <td>W</td>\n      <td>41</td>\n      <td>S</td>\n      <td>SSW</td>\n      <td>...</td>\n      <td>92</td>\n      <td>84</td>\n      <td>1017.6</td>\n      <td>1017.4</td>\n      <td>8</td>\n      <td>8</td>\n      <td>20.7</td>\n      <td>20.9</td>\n      <td>Yes</td>\n      <td>Yes</td>\n    </tr>\n    <tr>\n      <th>1</th>\n      <td>2/2/2008</td>\n      <td>19.5</td>\n      <td>25.6</td>\n      <td>6.0</td>\n      <td>3.4</td>\n      <td>2.7</td>\n      <td>W</td>\n      <td>41</td>\n      <td>W</td>\n      <td>E</td>\n      <td>...</td>\n      <td>83</td>\n      <td>73</td>\n      <td>1017.9</td>\n      <td>1016.4</td>\n      <td>7</td>\n      <td>7</td>\n      <td>22.4</td>\n      <td>24.8</td>\n      <td>Yes</td>\n      <td>Yes</td>\n    </tr>\n    <tr>\n      <th>2</th>\n      <td>2/3/2008</td>\n      <td>21.6</td>\n      <td>24.5</td>\n      <td>6.6</td>\n      <td>2.4</td>\n      <td>0.1</td>\n      <td>W</td>\n      <td>41</td>\n      <td>ESE</td>\n      <td>ESE</td>\n      <td>...</td>\n      <td>88</td>\n      <td>86</td>\n      <td>1016.7</td>\n      <td>1015.6</td>\n      <td>7</td>\n      <td>8</td>\n      <td>23.5</td>\n      <td>23.0</td>\n      <td>Yes</td>\n      <td>Yes</td>\n    </tr>\n    <tr>\n      <th>3</th>\n      <td>2/4/2008</td>\n      <td>20.2</td>\n      <td>22.8</td>\n      <td>18.8</td>\n      <td>2.2</td>\n      <td>0.0</td>\n      <td>W</td>\n      <td>41</td>\n      <td>NNE</td>\n      <td>E</td>\n      <td>...</td>\n      <td>83</td>\n      <td>90</td>\n      <td>1014.2</td>\n      <td>1011.8</td>\n      <td>8</td>\n      <td>8</td>\n      <td>21.4</td>\n      <td>20.9</td>\n      <td>Yes</td>\n      <td>Yes</td>\n    </tr>\n    <tr>\n      <th>4</th>\n      <td>2/5/2008</td>\n      <td>19.7</td>\n      <td>25.7</td>\n      <td>77.4</td>\n      <td>4.8</td>\n      <td>0.0</td>\n      <td>W</td>\n      <td>41</td>\n      <td>NNE</td>\n      <td>W</td>\n      <td>...</td>\n      <td>88</td>\n      <td>74</td>\n      <td>1008.3</td>\n      <td>1004.8</td>\n      <td>8</td>\n      <td>8</td>\n      <td>22.5</td>\n      <td>25.5</td>\n      <td>Yes</td>\n      <td>Yes</td>\n    </tr>\n  </tbody>\n</table>\n<p>5 rows × 22 columns</p>\n</div>"
          },
          "metadata": {}
        }
      ]
    },
    {
      "cell_type": "markdown",
      "source": "### Data Preprocessing\n",
      "metadata": {}
    },
    {
      "cell_type": "markdown",
      "source": "#### One Hot Encoding\n",
      "metadata": {}
    },
    {
      "cell_type": "markdown",
      "source": "First, we need to perform one hot encoding to convert categorical variables to binary variables.\n",
      "metadata": {}
    },
    {
      "cell_type": "code",
      "source": "df_sydney_processed = pd.get_dummies(data=df, columns=['RainToday', 'WindGustDir', 'WindDir9am', 'WindDir3pm'])",
      "metadata": {
        "trusted": true
      },
      "execution_count": 11,
      "outputs": []
    },
    {
      "cell_type": "markdown",
      "source": "Next, we replace the values of the 'RainTomorrow' column changing them from a categorical column to a binary column. We do not use the `get_dummies` method because we would end up with two columns for 'RainTomorrow' and we do not want, since 'RainTomorrow' is our target.\n",
      "metadata": {}
    },
    {
      "cell_type": "code",
      "source": "df_sydney_processed.replace(['No', 'Yes'], [0,1], inplace=True)",
      "metadata": {
        "trusted": true
      },
      "execution_count": 12,
      "outputs": []
    },
    {
      "cell_type": "markdown",
      "source": "### Training Data and Test Data\n",
      "metadata": {}
    },
    {
      "cell_type": "markdown",
      "source": "Now, we set our 'features' or x values and our Y or target variable.\n",
      "metadata": {}
    },
    {
      "cell_type": "code",
      "source": "df_sydney_processed.drop('Date',axis=1,inplace=True)",
      "metadata": {
        "trusted": true
      },
      "execution_count": 13,
      "outputs": []
    },
    {
      "cell_type": "code",
      "source": "df_sydney_processed = df_sydney_processed.astype(float)",
      "metadata": {
        "trusted": true
      },
      "execution_count": 14,
      "outputs": []
    },
    {
      "cell_type": "code",
      "source": "features = df_sydney_processed.drop(columns='RainTomorrow', axis=1)\nY = df_sydney_processed['RainTomorrow']",
      "metadata": {
        "trusted": true
      },
      "execution_count": 15,
      "outputs": []
    },
    {
      "cell_type": "markdown",
      "source": "### Linear Regression\n",
      "metadata": {}
    },
    {
      "cell_type": "markdown",
      "source": "#### Q1) Use the `train_test_split` function to split the `features` and `Y` dataframes with a `test_size` of `0.2` and the `random_state` set to `10`.\n",
      "metadata": {}
    },
    {
      "cell_type": "code",
      "source": "#Enter Your Code, Execute and take the Screenshot\nX_train, X_test, y_train, y_test = train_test_split(features, Y, test_size=0.2, random_state=10)\n",
      "metadata": {
        "trusted": true
      },
      "execution_count": 16,
      "outputs": []
    },
    {
      "cell_type": "code",
      "source": "from sklearn.model_selection import train_test_split\n\nX_train, X_test, y_train, y_test = train_test_split(features, Y, test_size=0.2, random_state=10)\n\nprint(X_train, X_test, y_train, y_test)",
      "metadata": {
        "trusted": true
      },
      "execution_count": 77,
      "outputs": [
        {
          "name": "stdout",
          "text": "      MinTemp  MaxTemp  Rainfall  Evaporation  Sunshine  WindGustSpeed  \\\n3188     14.8     22.0      33.8          4.2       1.5           50.0   \n2582      8.1     18.4       0.0          4.8       8.5           41.0   \n815      15.4     21.1       0.0          3.8       5.9           41.0   \n1024     20.0     26.5       0.0          8.6      13.1           30.0   \n1320     14.8     18.3      38.8          7.4       0.1           48.0   \n...       ...      ...       ...          ...       ...            ...   \n3195     11.7     17.9       8.8          7.8       6.1           54.0   \n1344     17.0     21.7       0.0          5.4      10.7           26.0   \n527       6.7     17.3       0.0          2.6       6.9           41.0   \n3197     15.0     22.7       9.4          4.2       2.8           43.0   \n1289     15.9     30.1       0.2          7.6      12.2           33.0   \n\n      WindSpeed9am  WindSpeed3pm  Humidity9am  Humidity3pm  ...  \\\n3188          19.0          24.0         90.0         49.0  ...   \n2582          20.0          11.0         70.0         50.0  ...   \n815            7.0          28.0         59.0         41.0  ...   \n1024           7.0          20.0         64.0         63.0  ...   \n1320          19.0          24.0         93.0         86.0  ...   \n...            ...           ...          ...          ...  ...   \n3195          26.0          26.0         51.0         56.0  ...   \n1344          15.0          20.0         50.0         47.0  ...   \n527           17.0           7.0         79.0         42.0  ...   \n3197          19.0          17.0         71.0         75.0  ...   \n1289          11.0           9.0         59.0         39.0  ...   \n\n      WindDir3pm_NNW  WindDir3pm_NW  WindDir3pm_S  WindDir3pm_SE  \\\n3188             0.0            0.0           0.0            0.0   \n2582             0.0            0.0           0.0            0.0   \n815              0.0            0.0           0.0            0.0   \n1024             0.0            0.0           0.0            0.0   \n1320             0.0            0.0           0.0            0.0   \n...              ...            ...           ...            ...   \n3195             0.0            0.0           0.0            0.0   \n1344             0.0            0.0           0.0            0.0   \n527              0.0            1.0           0.0            0.0   \n3197             0.0            0.0           0.0            0.0   \n1289             0.0            0.0           0.0            0.0   \n\n      WindDir3pm_SSE  WindDir3pm_SSW  WindDir3pm_SW  WindDir3pm_W  \\\n3188             0.0             0.0            0.0           0.0   \n2582             0.0             0.0            0.0           0.0   \n815              0.0             0.0            0.0           1.0   \n1024             0.0             0.0            0.0           0.0   \n1320             1.0             0.0            0.0           0.0   \n...              ...             ...            ...           ...   \n3195             0.0             0.0            0.0           1.0   \n1344             0.0             0.0            0.0           0.0   \n527              0.0             0.0            0.0           0.0   \n3197             0.0             1.0            0.0           0.0   \n1289             0.0             0.0            0.0           0.0   \n\n      WindDir3pm_WNW  WindDir3pm_WSW  \n3188             0.0             0.0  \n2582             0.0             0.0  \n815              0.0             0.0  \n1024             0.0             0.0  \n1320             0.0             0.0  \n...              ...             ...  \n3195             0.0             0.0  \n1344             0.0             0.0  \n527              0.0             0.0  \n3197             0.0             0.0  \n1289             0.0             0.0  \n\n[2616 rows x 66 columns]       MinTemp  MaxTemp  Rainfall  Evaporation  Sunshine  WindGustSpeed  \\\n3066     18.7     35.7       0.2          6.0       9.8           57.0   \n2456     15.0     24.8      22.4          3.4       9.7           37.0   \n1629      8.5     16.0       3.4          2.0       4.3           74.0   \n838      11.7     19.9       1.6          1.4       4.6           41.0   \n2506      7.9     19.3       2.2          4.0      10.1           46.0   \n...       ...      ...       ...          ...       ...            ...   \n2632     12.2     19.9       0.0          4.2       8.2           43.0   \n1725     20.1     28.7       0.2          4.2      10.7           31.0   \n1158     11.6     15.7      18.2          4.8       0.3           57.0   \n1661     16.9     23.9       0.0          9.8       9.9           57.0   \n68       15.6     22.2      22.8          5.4       5.8           41.0   \n\n      WindSpeed9am  WindSpeed3pm  Humidity9am  Humidity3pm  ...  \\\n3066          13.0          17.0         44.0         24.0  ...   \n2456          19.0          20.0         72.0         53.0  ...   \n1629          35.0          22.0         84.0         87.0  ...   \n838           15.0           7.0         92.0         53.0  ...   \n2506          28.0          20.0         49.0         34.0  ...   \n...            ...           ...          ...          ...  ...   \n2632           9.0          28.0         53.0         57.0  ...   \n1725          11.0          20.0         70.0         65.0  ...   \n1158          28.0          35.0         89.0         67.0  ...   \n1661          19.0          28.0         60.0         51.0  ...   \n68            13.0          20.0         96.0         62.0  ...   \n\n      WindDir3pm_NNW  WindDir3pm_NW  WindDir3pm_S  WindDir3pm_SE  \\\n3066             0.0            0.0           0.0            0.0   \n2456             0.0            0.0           0.0            0.0   \n1629             0.0            0.0           0.0            0.0   \n838              0.0            0.0           0.0            0.0   \n2506             0.0            0.0           0.0            0.0   \n...              ...            ...           ...            ...   \n2632             0.0            0.0           0.0            1.0   \n1725             0.0            0.0           0.0            0.0   \n1158             0.0            0.0           0.0            0.0   \n1661             0.0            0.0           0.0            0.0   \n68               0.0            0.0           0.0            0.0   \n\n      WindDir3pm_SSE  WindDir3pm_SSW  WindDir3pm_SW  WindDir3pm_W  \\\n3066             0.0             0.0            0.0           0.0   \n2456             1.0             0.0            0.0           0.0   \n1629             0.0             1.0            0.0           0.0   \n838              0.0             0.0            0.0           0.0   \n2506             0.0             0.0            0.0           1.0   \n...              ...             ...            ...           ...   \n2632             0.0             0.0            0.0           0.0   \n1725             0.0             0.0            0.0           0.0   \n1158             1.0             0.0            0.0           0.0   \n1661             1.0             0.0            0.0           0.0   \n68               0.0             0.0            0.0           0.0   \n\n      WindDir3pm_WNW  WindDir3pm_WSW  \n3066             0.0             0.0  \n2456             0.0             0.0  \n1629             0.0             0.0  \n838              0.0             0.0  \n2506             0.0             0.0  \n...              ...             ...  \n2632             0.0             0.0  \n1725             0.0             0.0  \n1158             0.0             0.0  \n1661             0.0             0.0  \n68               0.0             0.0  \n\n[655 rows x 66 columns] 3188    1.0\n2582    0.0\n815     1.0\n1024    0.0\n1320    1.0\n       ... \n3195    0.0\n1344    0.0\n527     0.0\n3197    1.0\n1289    0.0\nName: RainTomorrow, Length: 2616, dtype: float64 3066    0.0\n2456    0.0\n1629    1.0\n838     1.0\n2506    0.0\n       ... \n2632    1.0\n1725    0.0\n1158    1.0\n1661    0.0\n68      1.0\nName: RainTomorrow, Length: 655, dtype: float64\n",
          "output_type": "stream"
        }
      ]
    },
    {
      "cell_type": "markdown",
      "source": "#### Q2) Create and train a Linear Regression model called LinearReg using the training data (`x_train`, `y_train`).\n",
      "metadata": {}
    },
    {
      "cell_type": "code",
      "source": "#Enter Your Code, Execute and take the Screenshot",
      "metadata": {
        "trusted": true
      },
      "execution_count": 92,
      "outputs": []
    },
    {
      "cell_type": "code",
      "source": "LinearReg = LinearRegression()\nLinearReg.fit(X_train, y_train) \nprint(LinearReg)",
      "metadata": {
        "trusted": true
      },
      "execution_count": 75,
      "outputs": [
        {
          "name": "stdout",
          "text": "LinearRegression()\n",
          "output_type": "stream"
        }
      ]
    },
    {
      "cell_type": "markdown",
      "source": "#### Q3) Now use the `predict` method on the testing data (`x_test`) and save it to the array `predictions`.\n",
      "metadata": {}
    },
    {
      "cell_type": "code",
      "source": "#Enter Your Code, Execute and take the Screenshot",
      "metadata": {
        "trusted": true
      },
      "execution_count": 93,
      "outputs": []
    },
    {
      "cell_type": "code",
      "source": "predictions = LinearReg.predict(X_test)\nprint(predictions)",
      "metadata": {
        "trusted": true
      },
      "execution_count": 76,
      "outputs": [
        {
          "name": "stdout",
          "text": "[ 0.40764868  0.23064816  0.33779395  0.24223101  0.24219143  0.40640748\n  0.32246792  0.26256096  0.21706355  0.31440985  0.27511275  0.18470776\n  0.3177315   0.2521044   0.17696679  0.24696076  0.32496846  0.37502873\n  0.1232897   0.24025691  0.2837292   0.19165862  0.23515666  0.24752104\n  0.38403571  0.27017081  0.07553923  0.26688397  0.23992693  0.32074463\n  0.27353442  0.34704745  0.27116549  0.26088774  0.41401684  0.20629561\n  0.32042468  0.35501444  0.25559723  0.23620236  0.25478661  0.19703305\n  0.27022755  0.10069382  0.27861273  0.17404568  0.22614539  0.26148903\n  0.21353304  0.31411374  0.16837513  0.19861186  0.26335967  0.28807652\n  0.35188639  0.30654681  0.24419463  0.25710833  0.33632958  0.45451605\n  0.30216086  0.30661166  0.22807848  0.18749201  0.37557375  0.22666609\n  0.20530856  0.21331561  0.1995374   0.23770678  0.27286541  0.22862113\n  0.182531    0.29468215  0.33194315  0.41276038  0.40467846  0.16008961\n  0.20042765  0.23309577  0.20963728  0.19130766  0.34993756  0.28906929\n  0.16495717  0.40781224  0.20256388  0.45136034  0.22005808  0.25384152\n  0.23349106  0.05707562  0.2727133   0.28637707  0.25028956  0.34266388\n  0.30838072  0.11850941  0.27100718  0.25083172  0.27376807  0.12468922\n  0.28692877  0.17765677  0.12097704  0.20752013  0.29511702  0.36011183\n  0.28311503  0.15803111  0.22243607  0.21296513  0.33124888  0.26193011\n  0.2388674   0.18131411  0.25959837  0.28786719  0.25518906  0.25231755\n  0.28790343  0.30946839  0.30060446  0.26565087  0.23627102  0.2363497\n  0.18648064  0.31499636  0.22170699  0.23269188  0.30805266  0.26350462\n  0.14554417  0.24090111  0.20745051  0.27769911  0.25314343  0.35590947\n  0.25158036  0.22301066  0.25709164  0.22879326  0.23683321  0.21565497\n  0.26490271  0.18792737  0.19861281  0.27880824  0.34402287 -0.00995767\n  0.23814404  0.19729245  0.21895278  0.20657027  0.23225081  0.26754296\n  0.28532612  0.24645245  0.23134148  0.23539507  0.24471533  0.30534947\n  0.22586596  0.18477786  0.28989851  0.26051915  0.20410454  0.28801024\n  0.22912562  0.2789818   0.29451001  0.36214173  0.19462836  0.26915324\n  0.21167433  0.22423375  0.23303044  0.3544184   0.33135283  0.29500926\n  0.05623019  0.34219325  0.22051108  0.19531024  0.25537503  0.2129513\n  0.28037941  0.22841227  0.26653254  0.30575049  0.2699858   0.33953536\n  0.25165951  0.26560175  0.34990418  0.1744839   0.28268969  0.18080485\n  0.19414198  0.25744498  0.25618374  0.24906981  0.18982041  0.22513926\n  0.4650141   0.21648085  0.2770015   0.20839798  0.31388056  0.27262604\n  0.24609387  0.21662676  0.25670826  0.26974356  0.27126896  0.33520854\n  0.23125374  0.16057265  0.13663495  0.23868477  0.24081099  0.22596133\n  0.23633254  0.24031794  0.27078927  0.26542723  0.35173523  0.12999117\n  0.24021494  0.23607457  0.24178851  0.30223048  0.23048842  0.17247117\n  0.19867337  0.18156207  0.26533949  0.21953356  0.25521195  0.20761263\n  0.20396817  0.2388407   0.31120074  0.27161562  0.28102553  0.26864111\n  0.31523764  0.30982268  0.28373396  0.20217669  0.28978312  0.1926223\n  0.39516652  0.16625464  0.31064951  0.17521918  0.19158328  0.19920886\n  0.22962439  0.36616242  0.3052994   0.31412327  0.22213662  0.20428622\n  0.27318299  0.2561866   0.23434746  0.33653462  0.20468056  0.26292574\n  0.30853093  0.24398625  0.24302876  0.16404212  0.18880904  0.30397093\n  0.18320334  0.23792946  0.23897088  0.21437609  0.23647559  0.23835719\n  0.32702792  0.32203162  0.22120297  0.21586621  0.39390147  0.19126379\n  0.26568711  0.23680079  0.16206706  0.21088421  0.16438353  0.18449652\n  0.33217394  0.15515864  0.12659514  0.19472849  0.29990685  0.25613892\n  0.46954739  0.2821089   0.19873869  0.2693764   0.20574534  0.29605448\n  0.23112166  0.31643784  0.26672089  0.19087183  0.16740572  0.15447581\n  0.11662161  0.26872361  0.32848608  0.13555443  0.21392357  0.25861037\n  0.24679577  0.25870001  0.27120364  0.16152155  0.15151942  0.29198611\n  0.24912846  0.35935843  0.32952178  0.23275149  0.2194916   0.29053414\n  0.28443301  0.41189969  0.21318018  0.11707556  0.253389    0.21522391\n  0.24065268  0.26572859  0.17598307  0.28546488  0.20742095  0.29174435\n  0.24999583  0.23188698  0.19961226  0.34436667  0.27488577  0.34015858\n  0.14965785  0.2403537   0.1310159   0.34897959  0.14561045  0.25796187\n  0.23818219  0.31691229  0.30157483  0.24160159  0.23081648  0.22822917\n  0.25594866  0.18612111  0.18895876  0.25634539  0.22759163  0.2847482\n  0.08386672  0.23544323  0.2211591   0.29476035  0.36159718  0.29123366\n  0.22237837  0.47495329  0.07683766  0.08929598  0.26558173  0.28444588\n  0.22577202  0.23555577  0.30227005  0.13417208  0.16488183  0.21492684\n  0.24082482  0.25425684  0.19109118  0.39719832  0.1687957   0.23756373\n  0.32736886  0.21972525  0.21656382  0.27959216  0.27204382  0.23592627\n  0.32913792  0.22850955  0.3006283   0.1970135   0.37808001  0.30307972\n  0.22470963  0.12837327  0.20297968  0.3032099   0.34201491  0.22321618\n  0.14905035  0.25552237  0.23847401  0.36355841  0.34364665  0.24645674\n  0.35162985  0.2633034   0.09391034  0.26225626  0.24413264  0.34173167\n  0.2689544   0.26024115  0.14812052  0.17774165  0.27018225  0.33660185\n  0.37050307  0.12984145  0.31131423  0.31431162  0.29221499  0.28116047\n  0.21018803  0.25459445  0.28410351  0.26577914  0.2544266   0.28288615\n  0.29645073  0.22269738  0.26881945  0.2676636   0.29415572  0.35833085\n  0.09349215  0.3200804   0.24447024  0.26525891  0.24496043  0.25353444\n  0.26495421  0.18217528  0.20999396  0.23084223  0.19109738  0.21196711\n  0.39885437  0.14892066  0.14616835  0.18039095  0.28450263  0.28946364\n  0.35362399  0.17755663  0.21744311  0.23724043  0.29243529  0.21194994\n  0.23535836  0.29972899  0.14778483  0.24405873  0.38234961  0.12568867\n  0.23868954  0.26059353  0.1493746   0.25686705  0.21187603  0.27448714\n  0.45908225  0.18704474  0.2726022   0.3246237   0.41326201  0.17654192\n  0.2810818   0.18789732  0.21941149  0.17414248  0.25977099  0.24903882\n  0.17942202  0.33548415  0.20761836  0.11957037  0.2261883   0.220945\n  0.31767666  0.23737872  0.15398467  0.32298625  0.21750414  0.244681\n  0.24426806  0.27260649  0.30416644  0.20108378  0.13278878  0.25366461\n  0.14141333  0.3569032   0.2496258   0.32728827  0.27022803  0.1946274\n  0.22220623  0.27079356  0.23347056  0.16582739  0.25637257  0.32049477\n  0.30059588  0.22873509  0.2398659   0.23342812  0.2366935   0.2657181\n  0.28854716  0.21375525  0.22482264  0.31225932  0.2115885   0.19777167\n  0.21789992  0.20871127  0.2263509   0.18759406  0.21069539  0.20872939\n  0.40031111  0.18340075  0.17767298  0.24130785  0.31618273  0.26833498\n  0.27315295  0.20831788  0.25233376  0.31570494  0.23986781  0.23792279\n  0.34200299  0.11496985  0.22354758  0.109254    0.28202212  0.11517775\n  0.35400689  0.39702332  0.24379599  0.26139319  0.1836077   0.21744835\n  0.16294587  0.20558321  0.43502867  0.24525702  0.18936455  0.32632029\n  0.25251114  0.10851824  0.15516198  0.1914593   0.12570918  0.22895777\n  0.31250679  0.27597582  0.28539908  0.24702418  0.23878062  0.23592675\n  0.31753123  0.16616786  0.33377469  0.23708212  0.22909224  0.25365603\n  0.26383364  0.22659361  0.21860468  0.23302901  0.19339526  0.2857157\n  0.32417929  0.30147612  0.11862004  0.28032839  0.23075449  0.21467268\n  0.18832934  0.1570617   0.2491976   0.19507468  0.30686009  0.20876753\n  0.22111189  0.28815043  0.2061187   0.27488101  0.24147952  0.19706547\n  0.32400858  0.23579895  0.22820342  0.27075207  0.27275527  0.29427493\n  0.28916037  0.2902447   0.18539441  0.22351897  0.0756017   0.23940337\n  0.33619463  0.17514002  0.15020812  0.25218546  0.1691705   0.22420657\n  0.30406916  0.31439364  0.21607697  0.25110924  0.17978728  0.17780173\n  0.15606654  0.21364558  0.32795203  0.15636981  0.11217988  0.37731564\n  0.249107    0.17232144  0.18382323  0.33013546  0.35417426  0.27696002\n  0.28041375  0.23865998  0.2094723   0.20179474  0.23237908  0.29080784\n  0.18359959]\n",
          "output_type": "stream"
        }
      ]
    },
    {
      "cell_type": "raw",
      "source": "#### Q4) Using the `predictions` and the `y_test` dataframe calculate the value for each metric using the appropriate function.",
      "metadata": {}
    },
    {
      "cell_type": "code",
      "source": "#Enter Your Code, Execute and take the Screenshot",
      "metadata": {},
      "execution_count": null,
      "outputs": []
    },
    {
      "cell_type": "code",
      "source": "from sklearn.metrics import mean_absolute_error, mean_squared_error, r2_score\n\n# Calculate Mean Absolute Error (MAE)\nLinearRegression_MAE = mean_absolute_error(y_test, predictions)\n\n# Calculate Mean Squared Error (MSE)\nLinearRegression_MSE = mean_squared_error(y_test, predictions)\n\n# Calculate R-squared (coefficient of determination)\nLinearRegression_R2 = r2_score(y_test, predictions)\n\nprint(LinearRegression_MAE,LinearRegression_MSE, LinearRegression_R2)",
      "metadata": {
        "trusted": true
      },
      "execution_count": 94,
      "outputs": [
        {
          "name": "stdout",
          "text": "0.39570651218181346 0.2136676743574901 -0.05774916910392114\n",
          "output_type": "stream"
        }
      ]
    },
    {
      "cell_type": "raw",
      "source": "#### Q5) Show the MAE, MSE, and R2 in a tabular format using data frame for the linear model.\n",
      "metadata": {}
    },
    {
      "cell_type": "code",
      "source": "#Enter Your Code, Execute and take the Screenshot",
      "metadata": {},
      "execution_count": null,
      "outputs": []
    },
    {
      "cell_type": "code",
      "source": "import pandas as pd\n\nreport = {'Metric': ['MAE', 'MSE', 'R2'],\n          'Value': [LinearRegression_MAE, LinearRegression_MSE, LinearRegression_R2]}\n\nreport_df = pd.DataFrame(report)\n\nprint(report_df)\n",
      "metadata": {
        "trusted": true
      },
      "execution_count": 73,
      "outputs": [
        {
          "name": "stdout",
          "text": "  Metric     Value\n0    MAE  0.256319\n1    MSE  0.115720\n2     R2  0.427133\n",
          "output_type": "stream"
        }
      ]
    },
    {
      "cell_type": "markdown",
      "source": "### KNN\n",
      "metadata": {}
    },
    {
      "cell_type": "markdown",
      "source": "#### Q6) Create and train a KNN model called KNN using the training data (`x_train`, `y_train`) with the `n_neighbors` parameter set to `4`.\n",
      "metadata": {}
    },
    {
      "cell_type": "code",
      "source": "#Enter Your Code Below, Execute, and Save the Screenshot of the Final Output",
      "metadata": {},
      "execution_count": null,
      "outputs": []
    },
    {
      "cell_type": "code",
      "source": "from sklearn.neighbors import KNeighborsClassifier\n\nKNN = KNeighborsClassifier(n_neighbors=4)\nKNN.fit(x_train, y_train)\nprint(KNN.fit(x_train, y_train))",
      "metadata": {
        "trusted": true
      },
      "execution_count": 72,
      "outputs": [
        {
          "name": "stdout",
          "text": "KNeighborsClassifier(n_neighbors=4)\n",
          "output_type": "stream"
        }
      ]
    },
    {
      "cell_type": "markdown",
      "source": "#### Q7) Now use the `predict` method on the testing data (`x_test`) and save it to the array `predictions`.\n",
      "metadata": {}
    },
    {
      "cell_type": "code",
      "source": "#Enter Your Code Below, Execute, and Save the Screenshot of the Final Output",
      "metadata": {},
      "execution_count": null,
      "outputs": []
    },
    {
      "cell_type": "code",
      "source": "predictions = KNN.predict(x_test)\nprint(predictions)",
      "metadata": {
        "trusted": true
      },
      "execution_count": 40,
      "outputs": [
        {
          "name": "stdout",
          "text": "[0. 0. 1. 0. 0. 0. 0. 1. 1. 0. 0. 0. 0. 0. 0. 0. 0. 0. 0. 0. 0. 1. 0. 0.\n 0. 0. 0. 0. 1. 0. 0. 0. 0. 0. 0. 1. 0. 0. 0. 0. 0. 1. 0. 0. 0. 0. 0. 0.\n 1. 0. 0. 0. 0. 0. 0. 0. 0. 0. 0. 0. 0. 0. 1. 1. 0. 0. 0. 0. 0. 0. 0. 0.\n 0. 0. 0. 0. 0. 0. 0. 1. 0. 0. 0. 0. 0. 0. 0. 0. 0. 0. 0. 0. 0. 0. 0. 1.\n 0. 1. 0. 0. 0. 0. 1. 0. 1. 1. 0. 0. 0. 1. 0. 0. 0. 0. 0. 0. 0. 0. 0. 0.\n 0. 0. 0. 0. 0. 0. 0. 0. 0. 1. 0. 0. 0. 0. 1. 0. 0. 0. 0. 1. 0. 0. 0. 0.\n 1. 0. 0. 0. 0. 1. 0. 0. 0. 0. 0. 0. 0. 1. 0. 1. 1. 0. 0. 0. 0. 0. 0. 0.\n 1. 0. 1. 0. 0. 0. 0. 0. 0. 0. 0. 0. 1. 0. 0. 1. 0. 0. 0. 0. 0. 0. 0. 0.\n 0. 0. 0. 0. 0. 0. 0. 0. 0. 0. 0. 0. 1. 0. 0. 0. 0. 0. 1. 1. 0. 0. 0. 0.\n 0. 0. 0. 0. 1. 0. 0. 0. 0. 0. 0. 0. 0. 0. 0. 0. 0. 1. 1. 0. 0. 1. 1. 0.\n 1. 1. 0. 0. 1. 0. 0. 0. 0. 0. 0. 0. 0. 0. 0. 1. 0. 1. 1. 1. 0. 0. 0. 0.\n 0. 0. 0. 0. 0. 0. 0. 0. 0. 1. 0. 0. 0. 0. 0. 0. 0. 0. 1. 0. 0. 0. 0. 0.\n 0. 0. 0. 0. 0. 0. 0. 0. 0. 1. 0. 0. 1. 0. 0. 0. 0. 0. 1. 0. 1. 0. 1. 1.\n 0. 0. 1. 0. 0. 0. 1. 0. 0. 1. 1. 0. 0. 0. 0. 0. 0. 0. 1. 0. 0. 0. 0. 0.\n 0. 0. 0. 0. 0. 0. 0. 0. 0. 0. 0. 0. 0. 0. 0. 0. 1. 0. 0. 0. 0. 0. 1. 1.\n 1. 0. 1. 0. 0. 1. 0. 0. 0. 0. 0. 0. 1. 0. 0. 1. 0. 0. 0. 0. 0. 0. 0. 1.\n 0. 0. 0. 1. 0. 0. 0. 0. 1. 0. 0. 0. 0. 0. 1. 1. 0. 0. 0. 0. 0. 0. 0. 0.\n 0. 0. 0. 1. 0. 1. 0. 0. 0. 0. 0. 0. 0. 0. 0. 0. 0. 1. 0. 0. 1. 0. 0. 0.\n 1. 0. 0. 1. 0. 0. 1. 0. 0. 0. 0. 0. 1. 0. 0. 0. 0. 0. 0. 1. 0. 0. 0. 0.\n 0. 0. 0. 0. 0. 1. 0. 0. 0. 0. 0. 0. 0. 1. 0. 0. 0. 0. 0. 0. 1. 0. 0. 0.\n 0. 0. 0. 0. 0. 0. 0. 0. 0. 0. 0. 0. 0. 0. 1. 0. 0. 0. 0. 0. 0. 0. 0. 0.\n 0. 0. 0. 1. 0. 0. 0. 0. 0. 0. 0. 0. 0. 0. 0. 0. 0. 0. 0. 0. 0. 1. 0. 0.\n 0. 0. 0. 0. 1. 0. 0. 0. 1. 1. 1. 1. 0. 0. 0. 1. 0. 0. 1. 0. 0. 0. 0. 0.\n 0. 0. 0. 1. 0. 1. 0. 0. 0. 0. 0. 0. 1. 0. 0. 0. 0. 1. 0. 0. 0. 0. 1. 0.\n 0. 0. 0. 0. 0. 0. 0. 0. 0. 0. 0. 0. 0. 1. 0. 0. 0. 0. 0. 0. 0. 1. 0. 0.\n 0. 0. 1. 0. 0. 0. 0. 0. 0. 0. 0. 0. 1. 0. 0. 0. 1. 0. 0. 1. 0. 0. 1. 0.\n 0. 0. 0. 0. 0. 0. 0. 0. 1. 0. 0. 0. 1. 1. 0. 0. 0. 0. 0. 0. 0. 0. 1. 1.\n 0. 0. 0. 0. 1. 0. 1.]\n",
          "output_type": "stream"
        }
      ]
    },
    {
      "cell_type": "markdown",
      "source": "#### Q8) Using the `predictions` and the `y_test` dataframe calculate the value for each metric using the appropriate function.\n",
      "metadata": {}
    },
    {
      "cell_type": "code",
      "source": "#Enter Your Code Below, Execute, and Save the Screenshot of the Final Output",
      "metadata": {},
      "execution_count": null,
      "outputs": []
    },
    {
      "cell_type": "code",
      "source": "KNN_Accuracy_Score = accuracy_score(y_test, predictions)\nKNN_JaccardIndex = jaccard_score(y_test, predictions)\nKNN_F1_Score = f1_score(y_test, predictions)\nprint(KNN_Accuracy_Score, KNN_JaccardIndex, KNN_F1_Score)",
      "metadata": {
        "trusted": true
      },
      "execution_count": 71,
      "outputs": [
        {
          "name": "stdout",
          "text": "0.7694656488549618 0.3760330578512397 0.5465465465465466\n",
          "output_type": "stream"
        }
      ]
    },
    {
      "cell_type": "markdown",
      "source": "### Decision Tree\n",
      "metadata": {}
    },
    {
      "cell_type": "markdown",
      "source": "#### Q9) Create and train a Decision Tree model called Tree using the training data (`x_train`, `y_train`).\n",
      "metadata": {}
    },
    {
      "cell_type": "code",
      "source": "#Enter Your Code, Execute and take the Screenshot",
      "metadata": {},
      "execution_count": null,
      "outputs": []
    },
    {
      "cell_type": "code",
      "source": "from sklearn.tree import DecisionTreeClassifier\n\nTree = DecisionTreeClassifier()\nTree.fit(x_train, y_train)\n",
      "metadata": {
        "trusted": true
      },
      "execution_count": 69,
      "outputs": [
        {
          "execution_count": 69,
          "output_type": "execute_result",
          "data": {
            "text/plain": "DecisionTreeClassifier()"
          },
          "metadata": {}
        }
      ]
    },
    {
      "cell_type": "markdown",
      "source": "#### Q10) Now use the `predict` method on the testing data (`x_test`) and save it to the array `predictions`.\n",
      "metadata": {}
    },
    {
      "cell_type": "code",
      "source": "#Enter Your Code, Execute and take the Screenshot",
      "metadata": {},
      "execution_count": null,
      "outputs": []
    },
    {
      "cell_type": "code",
      "source": "predictions = Tree.predict(x_test)\nprint(predictions)",
      "metadata": {
        "trusted": true
      },
      "execution_count": 70,
      "outputs": [
        {
          "name": "stdout",
          "text": "[0. 0. 1. 0. 0. 1. 1. 0. 0. 0. 0. 0. 0. 0. 0. 1. 1. 0. 0. 0. 1. 1. 0. 0.\n 0. 0. 0. 0. 0. 0. 0. 0. 0. 1. 1. 1. 0. 0. 1. 0. 0. 0. 1. 1. 0. 0. 0. 1.\n 1. 0. 0. 0. 1. 0. 1. 1. 0. 0. 0. 0. 0. 0. 0. 0. 0. 0. 0. 0. 0. 0. 0. 1.\n 0. 0. 0. 0. 0. 0. 0. 0. 1. 1. 0. 0. 1. 0. 0. 0. 1. 0. 1. 1. 0. 0. 1. 0.\n 0. 0. 0. 1. 0. 1. 0. 1. 1. 0. 0. 0. 1. 0. 0. 0. 0. 1. 1. 1. 0. 1. 0. 0.\n 1. 0. 0. 0. 0. 1. 0. 0. 1. 0. 0. 1. 0. 0. 0. 0. 0. 0. 0. 0. 0. 1. 1. 0.\n 0. 1. 1. 1. 0. 1. 0. 0. 1. 0. 0. 1. 0. 1. 1. 0. 1. 0. 0. 1. 0. 0. 0. 1.\n 0. 0. 0. 0. 0. 0. 1. 0. 0. 1. 0. 1. 1. 0. 0. 0. 0. 1. 0. 0. 0. 0. 0. 0.\n 1. 0. 0. 0. 0. 1. 0. 1. 0. 0. 1. 0. 1. 1. 1. 0. 0. 0. 0. 0. 0. 1. 0. 0.\n 0. 1. 0. 0. 0. 1. 0. 1. 1. 1. 0. 0. 0. 0. 0. 0. 0. 0. 0. 0. 0. 0. 0. 1.\n 0. 0. 0. 0. 1. 1. 1. 1. 1. 0. 0. 0. 0. 0. 1. 0. 0. 0. 0. 1. 0. 1. 0. 0.\n 0. 0. 0. 0. 0. 0. 0. 0. 0. 0. 0. 0. 0. 0. 1. 0. 0. 0. 0. 1. 1. 0. 0. 0.\n 0. 0. 0. 0. 0. 0. 0. 1. 1. 1. 0. 0. 1. 0. 0. 0. 0. 0. 1. 0. 0. 0. 1. 0.\n 1. 0. 1. 1. 0. 0. 0. 1. 0. 1. 0. 1. 0. 0. 0. 0. 0. 1. 0. 0. 0. 1. 0. 0.\n 0. 1. 0. 0. 1. 1. 0. 0. 0. 1. 0. 0. 1. 0. 0. 0. 0. 0. 0. 0. 0. 0. 0. 0.\n 0. 0. 0. 0. 0. 0. 0. 0. 0. 0. 1. 0. 0. 0. 0. 1. 0. 1. 1. 0. 0. 0. 0. 0.\n 0. 0. 0. 0. 1. 0. 0. 0. 0. 0. 1. 0. 1. 0. 0. 0. 0. 0. 0. 0. 0. 0. 0. 0.\n 0. 0. 0. 0. 0. 0. 0. 0. 0. 0. 0. 0. 0. 0. 0. 0. 0. 0. 0. 0. 1. 0. 0. 0.\n 1. 1. 0. 0. 0. 0. 0. 0. 1. 1. 1. 0. 0. 0. 1. 0. 1. 0. 0. 0. 0. 1. 0. 0.\n 0. 0. 0. 0. 0. 0. 0. 0. 0. 0. 0. 0. 0. 0. 0. 0. 0. 0. 0. 0. 0. 0. 0. 0.\n 0. 0. 0. 0. 0. 0. 0. 0. 0. 1. 1. 0. 1. 0. 0. 0. 0. 0. 1. 0. 1. 1. 0. 0.\n 0. 0. 0. 0. 0. 0. 0. 0. 0. 0. 1. 0. 0. 0. 0. 1. 0. 0. 0. 0. 0. 0. 0. 0.\n 0. 1. 0. 0. 0. 0. 0. 0. 1. 0. 1. 1. 0. 0. 0. 0. 0. 0. 0. 0. 0. 0. 0. 0.\n 0. 0. 1. 0. 0. 0. 0. 0. 0. 0. 1. 1. 0. 0. 0. 0. 0. 0. 0. 1. 1. 0. 0. 0.\n 0. 0. 0. 0. 0. 0. 0. 1. 0. 1. 0. 0. 0. 0. 1. 0. 0. 0. 0. 0. 0. 0. 1. 0.\n 0. 0. 1. 0. 0. 0. 0. 0. 1. 0. 0. 0. 0. 0. 0. 1. 1. 0. 0. 0. 0. 0. 0. 1.\n 0. 0. 1. 0. 0. 0. 0. 0. 0. 1. 0. 1. 0. 0. 0. 0. 0. 1. 0. 0. 0. 0. 0. 1.\n 1. 0. 1. 1. 0. 0. 0.]\n",
          "output_type": "stream"
        }
      ]
    },
    {
      "cell_type": "markdown",
      "source": "#### Q11) Using the `predictions` and the `y_test` dataframe calculate the value for each metric using the appropriate function.\n",
      "metadata": {}
    },
    {
      "cell_type": "code",
      "source": "#Enter Your Code, Execute and take the Screenshot",
      "metadata": {},
      "execution_count": null,
      "outputs": []
    },
    {
      "cell_type": "code",
      "source": "from sklearn.metrics import accuracy_score, jaccard_score, f1_score\n\nTree_Accuracy_Score = accuracy_score(y_test, predictions)\nTree_JaccardIndex = jaccard_score(y_test, predictions)\nTree_F1_Score = f1_score(y_test, predictions)\nprint(Tree_Accuracy_Score, Tree_JaccardIndex, Tree_F1_Score)",
      "metadata": {
        "trusted": true
      },
      "execution_count": 68,
      "outputs": [
        {
          "name": "stdout",
          "text": "0.7221374045801526 0.0 0.0\n",
          "output_type": "stream"
        }
      ]
    },
    {
      "cell_type": "markdown",
      "source": "### Logistic Regression\n",
      "metadata": {}
    },
    {
      "cell_type": "markdown",
      "source": "#### Q12) Use the `train_test_split` function to split the `features` and `Y` dataframes with a `test_size` of `0.2` and the `random_state` set to `1`.\n",
      "metadata": {}
    },
    {
      "cell_type": "code",
      "source": "#Enter Your Code, Execute and take the Screenshot",
      "metadata": {},
      "execution_count": null,
      "outputs": []
    },
    {
      "cell_type": "code",
      "source": "from sklearn.model_selection import train_test_split\n\nx_train, x_test, y_train, y_test = train_test_split(features, Y, test_size=0.2, random_state=1)\nprint(x_train, x_test, y_train, y_test)",
      "metadata": {
        "trusted": true
      },
      "execution_count": 47,
      "outputs": [
        {
          "name": "stdout",
          "text": "      MinTemp  MaxTemp  Rainfall  Evaporation  Sunshine  WindGustSpeed  \\\n1264     12.3     19.7      30.0          4.0       7.2           44.0   \n3113     25.1     38.1       0.0         13.8      11.1           59.0   \n1230     12.2     17.5       0.0          2.8       3.0           41.0   \n1221     10.3     16.5       1.0          2.2       0.8           24.0   \n3070     20.4     23.6       3.2          7.0       0.0           33.0   \n...       ...      ...       ...          ...       ...            ...   \n2763     19.5     28.7       9.0          3.0       3.0           70.0   \n905       6.8     16.1       0.0          4.2      10.2           41.0   \n1096     20.6     28.1       1.0          3.2       9.8           41.0   \n235      10.3     18.6       0.0          4.0      10.9           41.0   \n1061     24.2     41.5       0.0          8.4      12.4           56.0   \n\n      WindSpeed9am  WindSpeed3pm  Humidity9am  Humidity3pm  ...  \\\n1264          24.0          17.0         52.0         45.0  ...   \n3113          20.0          31.0         26.0         52.0  ...   \n1230          17.0          11.0         86.0         69.0  ...   \n1221           7.0          11.0         89.0         71.0  ...   \n3070          15.0           7.0         86.0         83.0  ...   \n...            ...           ...          ...          ...  ...   \n2763          17.0          17.0         84.0         62.0  ...   \n905           26.0          20.0         58.0         50.0  ...   \n1096           4.0          20.0         82.0         69.0  ...   \n235            6.0          19.0         67.0         54.0  ...   \n1061          24.0          33.0         46.0         22.0  ...   \n\n      WindDir3pm_NNW  WindDir3pm_NW  WindDir3pm_S  WindDir3pm_SE  \\\n1264             0.0            0.0           0.0            0.0   \n3113             0.0            0.0           0.0            0.0   \n1230             0.0            0.0           0.0            0.0   \n1221             0.0            0.0           0.0            0.0   \n3070             0.0            0.0           0.0            0.0   \n...              ...            ...           ...            ...   \n2763             0.0            0.0           0.0            0.0   \n905              0.0            0.0           1.0            0.0   \n1096             0.0            0.0           0.0            0.0   \n235              0.0            0.0           0.0            0.0   \n1061             1.0            0.0           0.0            0.0   \n\n      WindDir3pm_SSE  WindDir3pm_SSW  WindDir3pm_SW  WindDir3pm_W  \\\n1264             0.0             0.0            0.0           0.0   \n3113             1.0             0.0            0.0           0.0   \n1230             0.0             0.0            0.0           0.0   \n1221             0.0             0.0            0.0           0.0   \n3070             0.0             0.0            0.0           0.0   \n...              ...             ...            ...           ...   \n2763             0.0             0.0            0.0           0.0   \n905              0.0             0.0            0.0           0.0   \n1096             0.0             0.0            0.0           0.0   \n235              0.0             0.0            0.0           0.0   \n1061             0.0             0.0            0.0           0.0   \n\n      WindDir3pm_WNW  WindDir3pm_WSW  \n1264             0.0             0.0  \n3113             0.0             0.0  \n1230             0.0             0.0  \n1221             0.0             0.0  \n3070             0.0             0.0  \n...              ...             ...  \n2763             0.0             0.0  \n905              0.0             0.0  \n1096             0.0             0.0  \n235              0.0             0.0  \n1061             0.0             0.0  \n\n[2616 rows x 66 columns]       MinTemp  MaxTemp  Rainfall  Evaporation  Sunshine  WindGustSpeed  \\\n255      15.1     18.9       9.0          3.2       5.0           41.0   \n1552      9.0     18.2       0.0          5.0      10.0           46.0   \n1353     20.0     26.8       0.0          9.0       4.7           59.0   \n1060     24.0     33.7       0.0          5.2       6.8           43.0   \n808      12.6     24.9       0.0          2.4      10.6           41.0   \n...       ...      ...       ...          ...       ...            ...   \n1224     10.2     16.9       0.0          2.0       1.1           52.0   \n756      20.9     26.7      14.0          3.4       6.2           41.0   \n2774     19.6     28.5       0.2          7.6      12.7           43.0   \n1387     21.7     33.2       1.4          8.8       9.4           56.0   \n1723     20.8     24.3       0.0          7.8       1.3           43.0   \n\n      WindSpeed9am  WindSpeed3pm  Humidity9am  Humidity3pm  ...  \\\n255           20.0          17.0         63.0         55.0  ...   \n1552           9.0          17.0         52.0         33.0  ...   \n1353          17.0           9.0         61.0         68.0  ...   \n1060           7.0          28.0         72.0         73.0  ...   \n808           15.0           9.0         64.0         32.0  ...   \n...            ...           ...          ...          ...  ...   \n1224          17.0          17.0         91.0         80.0  ...   \n756            2.0          15.0         90.0         77.0  ...   \n2774          11.0          22.0         68.0         46.0  ...   \n1387          17.0          24.0         69.0         52.0  ...   \n1723           7.0          11.0         72.0         68.0  ...   \n\n      WindDir3pm_NNW  WindDir3pm_NW  WindDir3pm_S  WindDir3pm_SE  \\\n255              0.0            0.0           0.0            1.0   \n1552             0.0            0.0           0.0            0.0   \n1353             0.0            0.0           0.0            0.0   \n1060             0.0            0.0           0.0            0.0   \n808              0.0            0.0           0.0            0.0   \n...              ...            ...           ...            ...   \n1224             0.0            0.0           0.0            0.0   \n756              0.0            0.0           0.0            0.0   \n2774             0.0            0.0           0.0            0.0   \n1387             1.0            0.0           0.0            0.0   \n1723             0.0            0.0           0.0            0.0   \n\n      WindDir3pm_SSE  WindDir3pm_SSW  WindDir3pm_SW  WindDir3pm_W  \\\n255              0.0             0.0            0.0           0.0   \n1552             0.0             0.0            0.0           0.0   \n1353             0.0             0.0            0.0           0.0   \n1060             0.0             0.0            0.0           0.0   \n808              0.0             0.0            0.0           1.0   \n...              ...             ...            ...           ...   \n1224             0.0             0.0            0.0           0.0   \n756              0.0             0.0            0.0           0.0   \n2774             0.0             0.0            0.0           0.0   \n1387             0.0             0.0            0.0           0.0   \n1723             0.0             1.0            0.0           0.0   \n\n      WindDir3pm_WNW  WindDir3pm_WSW  \n255              0.0             0.0  \n1552             0.0             1.0  \n1353             0.0             0.0  \n1060             0.0             0.0  \n808              0.0             0.0  \n...              ...             ...  \n1224             0.0             0.0  \n756              0.0             0.0  \n2774             0.0             0.0  \n1387             0.0             0.0  \n1723             0.0             0.0  \n\n[655 rows x 66 columns] 1264    0.0\n3113    0.0\n1230    0.0\n1221    0.0\n3070    1.0\n       ... \n2763    1.0\n905     0.0\n1096    0.0\n235     0.0\n1061    0.0\nName: RainTomorrow, Length: 2616, dtype: float64 255     0.0\n1552    0.0\n1353    0.0\n1060    0.0\n808     0.0\n       ... \n1224    1.0\n756     0.0\n2774    0.0\n1387    0.0\n1723    0.0\nName: RainTomorrow, Length: 655, dtype: float64\n",
          "output_type": "stream"
        }
      ]
    },
    {
      "cell_type": "markdown",
      "source": "#### Q13) Create and train a LogisticRegression model called LR using the training data (`x_train`, `y_train`) with the `solver` parameter set to `liblinear`.\n",
      "metadata": {}
    },
    {
      "cell_type": "code",
      "source": "#Enter Your Code, Execute and take the Screenshot",
      "metadata": {},
      "execution_count": null,
      "outputs": []
    },
    {
      "cell_type": "code",
      "source": "from sklearn.linear_model import LogisticRegression\n\nLR = LogisticRegression(solver='liblinear')\nLR.fit(x_train, y_train)\n",
      "metadata": {
        "trusted": true
      },
      "execution_count": 48,
      "outputs": [
        {
          "execution_count": 48,
          "output_type": "execute_result",
          "data": {
            "text/plain": "LogisticRegression(solver='liblinear')"
          },
          "metadata": {}
        }
      ]
    },
    {
      "cell_type": "markdown",
      "source": "#### Q14) Now, use the `predict` and `predict_proba` methods on the testing data (`x_test`) and save it as 2 arrays `predictions` and `predict_proba`.\n",
      "metadata": {}
    },
    {
      "cell_type": "code",
      "source": "#Enter Your Code, Execute and take the Screenshot",
      "metadata": {},
      "execution_count": null,
      "outputs": []
    },
    {
      "cell_type": "code",
      "source": "predictions = LR.predict(x_test)\npredict_proba = LR.predict_proba(x_test)\nprint(predictions, predict_proba)",
      "metadata": {
        "trusted": true
      },
      "execution_count": 50,
      "outputs": [
        {
          "name": "stdout",
          "text": "[0. 0. 0. 0. 0. 1. 0. 0. 0. 0. 1. 1. 0. 0. 0. 0. 1. 0. 0. 0. 1. 1. 0. 0.\n 0. 0. 0. 0. 0. 0. 0. 0. 0. 1. 1. 1. 1. 0. 1. 0. 0. 0. 0. 0. 0. 0. 0. 0.\n 0. 0. 1. 0. 1. 0. 1. 1. 0. 0. 0. 0. 0. 0. 0. 0. 0. 0. 0. 0. 0. 0. 0. 1.\n 0. 0. 0. 0. 0. 0. 0. 0. 0. 0. 1. 0. 1. 0. 0. 0. 1. 0. 0. 0. 0. 0. 1. 0.\n 0. 0. 0. 0. 0. 1. 0. 1. 1. 0. 0. 0. 0. 0. 0. 0. 1. 1. 0. 0. 1. 0. 0. 0.\n 1. 0. 0. 0. 0. 0. 0. 0. 0. 0. 0. 0. 0. 0. 1. 0. 0. 0. 0. 1. 0. 1. 0. 0.\n 0. 1. 0. 1. 1. 0. 0. 0. 1. 0. 0. 1. 0. 0. 1. 0. 1. 0. 1. 1. 0. 0. 0. 0.\n 0. 0. 0. 0. 0. 1. 0. 0. 0. 0. 0. 1. 1. 0. 0. 0. 1. 1. 0. 0. 0. 0. 0. 0.\n 1. 0. 0. 1. 0. 1. 0. 0. 0. 0. 0. 0. 0. 1. 1. 0. 0. 1. 0. 0. 0. 1. 0. 0.\n 0. 1. 0. 0. 0. 1. 0. 1. 1. 0. 0. 0. 0. 0. 1. 1. 0. 0. 0. 0. 0. 0. 0. 1.\n 0. 0. 1. 0. 0. 0. 1. 1. 1. 0. 0. 0. 0. 0. 1. 0. 0. 0. 0. 1. 1. 1. 0. 0.\n 0. 0. 0. 0. 0. 0. 0. 0. 0. 0. 0. 0. 0. 0. 1. 0. 0. 0. 1. 1. 1. 0. 0. 0.\n 0. 1. 1. 0. 0. 1. 0. 1. 0. 0. 0. 0. 1. 0. 0. 0. 0. 1. 1. 0. 0. 0. 1. 0.\n 0. 0. 0. 1. 0. 0. 0. 0. 0. 0. 0. 0. 0. 1. 0. 0. 1. 1. 0. 0. 1. 0. 0. 0.\n 0. 0. 0. 0. 1. 1. 0. 0. 1. 1. 1. 0. 1. 0. 0. 1. 0. 0. 0. 0. 0. 0. 0. 0.\n 0. 0. 0. 0. 0. 1. 0. 0. 0. 0. 0. 0. 0. 0. 0. 1. 0. 0. 0. 0. 0. 0. 0. 0.\n 0. 0. 0. 0. 1. 1. 0. 0. 0. 0. 0. 0. 1. 0. 0. 0. 0. 0. 0. 0. 0. 0. 0. 0.\n 0. 0. 0. 0. 0. 0. 0. 0. 0. 0. 0. 0. 0. 0. 0. 0. 0. 0. 0. 0. 0. 0. 0. 0.\n 1. 1. 0. 0. 0. 0. 0. 0. 1. 1. 1. 0. 0. 0. 1. 0. 1. 0. 0. 0. 0. 1. 0. 0.\n 0. 0. 0. 0. 1. 0. 0. 1. 1. 0. 0. 1. 0. 0. 0. 0. 0. 1. 0. 0. 1. 0. 0. 0.\n 0. 0. 0. 0. 0. 0. 1. 0. 0. 1. 1. 0. 1. 0. 0. 0. 0. 0. 1. 0. 0. 1. 0. 0.\n 0. 0. 0. 0. 1. 0. 0. 0. 0. 0. 0. 1. 0. 0. 1. 0. 0. 0. 0. 0. 0. 0. 0. 0.\n 0. 0. 0. 0. 0. 0. 1. 0. 1. 0. 0. 1. 0. 0. 0. 0. 0. 1. 0. 0. 0. 0. 0. 0.\n 0. 0. 1. 0. 0. 0. 0. 0. 0. 0. 1. 1. 0. 0. 0. 0. 0. 0. 0. 1. 1. 0. 0. 0.\n 0. 0. 0. 0. 0. 0. 0. 1. 0. 1. 0. 0. 0. 0. 1. 0. 0. 0. 0. 0. 0. 0. 1. 1.\n 0. 0. 1. 0. 0. 0. 0. 0. 0. 0. 0. 0. 0. 0. 0. 0. 1. 0. 0. 0. 0. 1. 0. 1.\n 0. 0. 1. 0. 0. 0. 0. 1. 0. 0. 1. 1. 0. 0. 0. 1. 0. 1. 0. 0. 1. 0. 0. 0.\n 1. 0. 1. 0. 0. 0. 1.] [[0.72156803 0.27843197]\n [0.97618147 0.02381853]\n [0.54701998 0.45298002]\n ...\n [0.97910907 0.02089093]\n [0.69491648 0.30508352]\n [0.23386817 0.76613183]]\n",
          "output_type": "stream"
        }
      ]
    },
    {
      "cell_type": "markdown",
      "source": "#### Q15) Using the `predictions`, `predict_proba` and the `y_test` dataframe calculate the value for each metric using the appropriate function.\n",
      "metadata": {}
    },
    {
      "cell_type": "code",
      "source": "#Enter Your Code, Execute and take the Screenshot",
      "metadata": {},
      "execution_count": null,
      "outputs": []
    },
    {
      "cell_type": "code",
      "source": "from sklearn.metrics import accuracy_score, jaccard_score, f1_score, log_loss\n\nLR_Accuracy_Score = accuracy_score(y_test, predictions)\nLR_JaccardIndex = jaccard_score(y_test, predictions)\nLR_F1_Score = f1_score(y_test, predictions)\nLR_Log_Loss = log_loss(y_test, predict_proba)\nprint(LR_Accuracy_Score, LR_JaccardIndex, LR_F1_Score,LR_Log_Loss)",
      "metadata": {
        "trusted": true
      },
      "execution_count": 67,
      "outputs": [
        {
          "name": "stdout",
          "text": "0.7221374045801526 0.0 0.0 0.3777982108288627\n",
          "output_type": "stream"
        }
      ]
    },
    {
      "cell_type": "markdown",
      "source": "### SVM\n",
      "metadata": {}
    },
    {
      "cell_type": "markdown",
      "source": "#### Q16) Create and train a SVM model called SVM using the training data (`x_train`, `y_train`).\n",
      "metadata": {}
    },
    {
      "cell_type": "code",
      "source": "#Enter Your Code Below, Execute, and Save the Screenshot of the Final Output",
      "metadata": {},
      "execution_count": null,
      "outputs": []
    },
    {
      "cell_type": "code",
      "source": "from sklearn.svm import SVC\n\nSVM = SVC()\nSVM.fit(x_train, y_train)\n",
      "metadata": {
        "trusted": true
      },
      "execution_count": 66,
      "outputs": [
        {
          "execution_count": 66,
          "output_type": "execute_result",
          "data": {
            "text/plain": "SVC()"
          },
          "metadata": {}
        }
      ]
    },
    {
      "cell_type": "markdown",
      "source": "#### Q17) Now use the `predict` method on the testing data (`x_test`) and save it to the array `predictions`.\n",
      "metadata": {}
    },
    {
      "cell_type": "code",
      "source": "#Enter Your Code Below, Execute, and Save the Screenshot of the Final Output",
      "metadata": {},
      "execution_count": null,
      "outputs": []
    },
    {
      "cell_type": "code",
      "source": "predictions = SVM.predict(x_test)\nprint(predictions)",
      "metadata": {
        "trusted": true
      },
      "execution_count": 65,
      "outputs": [
        {
          "name": "stdout",
          "text": "[0. 0. 0. 0. 0. 0. 0. 0. 0. 0. 0. 0. 0. 0. 0. 0. 0. 0. 0. 0. 0. 0. 0. 0.\n 0. 0. 0. 0. 0. 0. 0. 0. 0. 0. 0. 0. 0. 0. 0. 0. 0. 0. 0. 0. 0. 0. 0. 0.\n 0. 0. 0. 0. 0. 0. 0. 0. 0. 0. 0. 0. 0. 0. 0. 0. 0. 0. 0. 0. 0. 0. 0. 0.\n 0. 0. 0. 0. 0. 0. 0. 0. 0. 0. 0. 0. 0. 0. 0. 0. 0. 0. 0. 0. 0. 0. 0. 0.\n 0. 0. 0. 0. 0. 0. 0. 0. 0. 0. 0. 0. 0. 0. 0. 0. 0. 0. 0. 0. 0. 0. 0. 0.\n 0. 0. 0. 0. 0. 0. 0. 0. 0. 0. 0. 0. 0. 0. 0. 0. 0. 0. 0. 0. 0. 0. 0. 0.\n 0. 0. 0. 0. 0. 0. 0. 0. 0. 0. 0. 0. 0. 0. 0. 0. 0. 0. 0. 0. 0. 0. 0. 0.\n 0. 0. 0. 0. 0. 0. 0. 0. 0. 0. 0. 0. 0. 0. 0. 0. 0. 0. 0. 0. 0. 0. 0. 0.\n 0. 0. 0. 0. 0. 0. 0. 0. 0. 0. 0. 0. 0. 0. 0. 0. 0. 0. 0. 0. 0. 0. 0. 0.\n 0. 0. 0. 0. 0. 0. 0. 0. 0. 0. 0. 0. 0. 0. 0. 0. 0. 0. 0. 0. 0. 0. 0. 0.\n 0. 0. 0. 0. 0. 0. 0. 0. 0. 0. 0. 0. 0. 0. 0. 0. 0. 0. 0. 0. 0. 0. 0. 0.\n 0. 0. 0. 0. 0. 0. 0. 0. 0. 0. 0. 0. 0. 0. 0. 0. 0. 0. 0. 0. 0. 0. 0. 0.\n 0. 0. 0. 0. 0. 0. 0. 0. 0. 0. 0. 0. 0. 0. 0. 0. 0. 0. 0. 0. 0. 0. 0. 0.\n 0. 0. 0. 0. 0. 0. 0. 0. 0. 0. 0. 0. 0. 0. 0. 0. 0. 0. 0. 0. 0. 0. 0. 0.\n 0. 0. 0. 0. 0. 0. 0. 0. 0. 0. 0. 0. 0. 0. 0. 0. 0. 0. 0. 0. 0. 0. 0. 0.\n 0. 0. 0. 0. 0. 0. 0. 0. 0. 0. 0. 0. 0. 0. 0. 0. 0. 0. 0. 0. 0. 0. 0. 0.\n 0. 0. 0. 0. 0. 0. 0. 0. 0. 0. 0. 0. 0. 0. 0. 0. 0. 0. 0. 0. 0. 0. 0. 0.\n 0. 0. 0. 0. 0. 0. 0. 0. 0. 0. 0. 0. 0. 0. 0. 0. 0. 0. 0. 0. 0. 0. 0. 0.\n 0. 0. 0. 0. 0. 0. 0. 0. 0. 0. 0. 0. 0. 0. 0. 0. 0. 0. 0. 0. 0. 0. 0. 0.\n 0. 0. 0. 0. 0. 0. 0. 0. 0. 0. 0. 0. 0. 0. 0. 0. 0. 0. 0. 0. 0. 0. 0. 0.\n 0. 0. 0. 0. 0. 0. 0. 0. 0. 0. 0. 0. 0. 0. 0. 0. 0. 0. 0. 0. 0. 0. 0. 0.\n 0. 0. 0. 0. 0. 0. 0. 0. 0. 0. 0. 0. 0. 0. 0. 0. 0. 0. 0. 0. 0. 0. 0. 0.\n 0. 0. 0. 0. 0. 0. 0. 0. 0. 0. 0. 0. 0. 0. 0. 0. 0. 0. 0. 0. 0. 0. 0. 0.\n 0. 0. 0. 0. 0. 0. 0. 0. 0. 0. 0. 0. 0. 0. 0. 0. 0. 0. 0. 0. 0. 0. 0. 0.\n 0. 0. 0. 0. 0. 0. 0. 0. 0. 0. 0. 0. 0. 0. 0. 0. 0. 0. 0. 0. 0. 0. 0. 0.\n 0. 0. 0. 0. 0. 0. 0. 0. 0. 0. 0. 0. 0. 0. 0. 0. 0. 0. 0. 0. 0. 0. 0. 0.\n 0. 0. 0. 0. 0. 0. 0. 0. 0. 0. 0. 0. 0. 0. 0. 0. 0. 0. 0. 0. 0. 0. 0. 0.\n 0. 0. 0. 0. 0. 0. 0.]\n",
          "output_type": "stream"
        }
      ]
    },
    {
      "cell_type": "markdown",
      "source": "#### Q18) Using the `predictions` and the `y_test` dataframe calculate the value for each metric using the appropriate function.\n",
      "metadata": {}
    },
    {
      "cell_type": "code",
      "source": "from sklearn.metrics import accuracy_score, jaccard_score, f1_score\n\nSVM_Accuracy_Score = accuracy_score(y_test, predictions)\nSVM_JaccardIndex = jaccard_score(y_test, predictions)\nSVM_F1_Score = f1_score(y_test, predictions)\nprint(SVM_Accuracy_Score, SVM_JaccardIndex, SVM_F1_Score)",
      "metadata": {
        "trusted": true
      },
      "execution_count": 64,
      "outputs": [
        {
          "name": "stdout",
          "text": "0.7221374045801526 0.0 0.0\n",
          "output_type": "stream"
        }
      ]
    },
    {
      "cell_type": "markdown",
      "source": "### Report\n",
      "metadata": {}
    },
    {
      "cell_type": "markdown",
      "source": "#### Q19) Show the Accuracy,Jaccard Index,F1-Score and LogLoss in a tabular format using data frame for all of the above models.\n\n\\*LogLoss is only for Logistic Regression Model\n",
      "metadata": {}
    },
    {
      "cell_type": "code",
      "source": "import pandas as pd\n\ndata = {\n    'Model': ['KNN', 'Decision Tree', 'Logistic Regression', 'SVM'],\n    'Accuracy': [KNN_Accuracy_Score, Tree_Accuracy_Score, LR_Accuracy_Score, SVM_Accuracy_Score],\n    'Jaccard Index': [KNN_JaccardIndex, Tree_JaccardIndex, LR_JaccardIndex, SVM_JaccardIndex],\n    'F1-Score': [KNN_F1_Score, Tree_F1_Score, LR_F1_Score, SVM_F1_Score],\n    'LogLoss': [np.nan, np.nan, LR_Log_Loss, np.nan]\n}\n\nreport_df = pd.DataFrame(data)\nreport_df.set_index('Model', inplace=True)\n\nprint(report_df)\n",
      "metadata": {
        "trusted": true
      },
      "execution_count": 98,
      "outputs": [
        {
          "name": "stdout",
          "text": "                     Accuracy  Jaccard Index  F1-Score   LogLoss\nModel                                                           \nKNN                  0.769466       0.376033  0.546547       NaN\nDecision Tree        0.722137       0.000000  0.000000       NaN\nLogistic Regression  0.722137       0.000000  0.000000  0.377798\nSVM                  0.722137       0.000000  0.000000       NaN\n",
          "output_type": "stream"
        }
      ]
    },
    {
      "cell_type": "markdown",
      "source": "<h2 id=\"Section_5\">  How to submit </h2>\n\n<p>Once you complete your notebook you will have to share it. You can download the notebook by navigating to \"File\" and clicking on \"Download\" button.\n\n<p>This will save the (.ipynb) file on your computer. Once saved, you can upload this file in the \"My Submission\" tab, of the \"Peer-graded Assignment\" section.  \n",
      "metadata": {}
    },
    {
      "cell_type": "markdown",
      "source": "<h2>About the Authors:</h2> \n\n<a href=\"https://www.linkedin.com/in/joseph-s-50398b136/?utm_medium=Exinfluencer&utm_source=Exinfluencer&utm_content=000026UJ&utm_term=10006555&utm_id=NA-SkillsNetwork-Channel-SkillsNetworkCoursesIBMDeveloperSkillsNetworkML0101ENSkillsNetwork20718538-2022-01-01\">Joseph Santarcangelo</a> has a PhD in Electrical Engineering, his research focused on using machine learning, signal processing, and computer vision to determine how videos impact human cognition. Joseph has been working for IBM since he completed his PhD.\n\n### Other Contributors\n\n[Svitlana Kramar](https://www.linkedin.com/in/svitlana-kramar/?utm_medium=Exinfluencer&utm_source=Exinfluencer&utm_content=000026UJ&utm_term=10006555&utm_id=NA-SkillsNetwork-Channel-SkillsNetworkCoursesIBMML0232ENSkillsNetwork30654641-2022-01-01)\n",
      "metadata": {}
    },
    {
      "cell_type": "markdown",
      "source": "## Change Log\n\n| Date (YYYY-MM-DD) | Version | Changed By    | Change Description          |\n| ----------------- | ------- | ------------- | --------------------------- |\n| 2023-04-10        | 2.1     | Anita Verma  | Removed \"RISK_MM\" and updated Q14 and Q15 |\n| 2022-06-22        | 2.0     | Svitlana K.   | Deleted GridSearch and Mock |\n\n\n## <h3 align=\"center\"> © IBM Corporation 2020. All rights reserved. <h3/>\n",
      "metadata": {}
    }
  ]
}