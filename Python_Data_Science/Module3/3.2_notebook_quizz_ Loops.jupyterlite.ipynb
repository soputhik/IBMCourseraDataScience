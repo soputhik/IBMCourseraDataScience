{
  "metadata": {
    "kernelspec": {
      "name": "python",
      "display_name": "Pyolite",
      "language": "python"
    },
    "language_info": {
      "codemirror_mode": {
        "name": "python",
        "version": 3
      },
      "file_extension": ".py",
      "mimetype": "text/x-python",
      "name": "python",
      "nbconvert_exporter": "python",
      "pygments_lexer": "ipython3",
      "version": "3.8"
    }
  },
  "nbformat_minor": 4,
  "nbformat": 4,
  "cells": [
    {
      "cell_type": "markdown",
      "source": [
        "<center>\n",
        "    <img src=\"https://cf-courses-data.s3.us.cloud-object-storage.appdomain.cloud/IBMDeveloperSkillsNetwork-PY0101EN-SkillsNetwork/IDSNlogo.png\" width=\"300\" alt=\"cognitiveclass.ai logo\"  />\n",
        "</center>\n"
      ],
      "metadata": {}
    },
    {
      "cell_type": "markdown",
      "source": [
        "<h3>For Loops </h3> \n"
      ],
      "metadata": {}
    },
    {
      "cell_type": "markdown",
      "source": [
        "Use loops to print out the elements in the list <code>A</code>:\n"
      ],
      "metadata": {}
    },
    {
      "cell_type": "code",
      "source": "A=[3,4,5]\n",
      "metadata": {
        "trusted": true
      },
      "execution_count": null,
      "outputs": []
    },
    {
      "cell_type": "markdown",
      "source": [
        "<details><summary>Click here for the solution</summary>\n",
        "\n",
        "```python\n",
        "for i in A:  \n",
        "    print(i) \n",
        "    \n",
        "```\n",
        "\n",
        "</details>\n"
      ],
      "metadata": {}
    },
    {
      "cell_type": "markdown",
      "source": [
        "<h3>While Loops</h3> \n"
      ],
      "metadata": {}
    },
    {
      "cell_type": "markdown",
      "source": [
        "Find the value of <code> x </code> that will print out the sequence <code> 1,2,..,10 </code>:\n"
      ],
      "metadata": {}
    },
    {
      "cell_type": "code",
      "source": "x=\ny=1\nwhile(y != x):\n    print(y)\n    y=y+1",
      "metadata": {
        "trusted": true
      },
      "execution_count": null,
      "outputs": []
    },
    {
      "cell_type": "markdown",
      "source": [
        "<details><summary>Click here for the solution</summary>\n",
        "\n",
        "```python\n",
        "x = 11\n",
        "    \n",
        "```\n",
        "\n",
        "</details>\n"
      ],
      "metadata": {}
    },
    {
      "cell_type": "markdown",
      "source": [
        "<hr>\n",
        "\n",
        "<h3 align=\"center\"> © IBM Corporation 2020. All rights reserved. <h3/>\n"
      ],
      "metadata": {}
    }
  ]
}