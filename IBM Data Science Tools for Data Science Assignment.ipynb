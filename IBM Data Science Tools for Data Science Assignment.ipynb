{
    "cells": [
        {
            "cell_type": "markdown",
            "metadata": {
                "collapsed": true
            },
            "source": "# My Jupyter Notebook on IBM Watson Studio"
        },
        {
            "cell_type": "markdown",
            "metadata": {},
            "source": "**Soputhik Seng**\n<hr/>\nI am currently a university student pursuing a Bachelor's Degree in Computer Science in Cambodia, I currently am a student employee of the school. After completing my degree, I would like to be able to become a junior data scientist, since I love working with data. "
        },
        {
            "cell_type": "markdown",
            "metadata": {},
            "source": "*Data have always interested me. I am a curious person, I tend to ask a lot of questions, or seeks answers everytime somebody asks me a question I do not know. This is why I drifted towards Data Science. I love the euphoria of finding out new knowledge, new information, or at time proving myself right or wrong.*"
        },
        {
            "cell_type": "markdown",
            "metadata": {},
            "source": "### The following code will print out today's date"
        },
        {
            "cell_type": "code",
            "execution_count": 3,
            "metadata": {},
            "outputs": [
                {
                    "name": "stdout",
                    "output_type": "stream",
                    "text": "September 25, 2022\n"
                }
            ],
            "source": "from datetime import date\n\n# retrieving today's date \ntoday = date.today()\n\n# setting date format to Month dd, YYYY\ntoday = today.strftime(\"%B %d, %Y\")\nprint(today)"
        },
        {
            "cell_type": "markdown",
            "metadata": {},
            "source": "Here are sports I play:\n* <mark>Football/Soccer</mark>\n* <mark>Basketball</mark>\n* <mark>Badminton</mark>\n* <mark>Volleyball</mark>\n* <mark>Table Tennis</mark>\n\n\n<img src=\"https://cutewallpaper.org/24/animated-sports-gifs/7-sport-gifs-gif-abyss.gif\" align=\"left\" width=\"320px\">"
        }
    ],
    "metadata": {
        "kernelspec": {
            "display_name": "Python 3.9",
            "language": "python",
            "name": "python3"
        },
        "language_info": {
            "codemirror_mode": {
                "name": "ipython",
                "version": 3
            },
            "file_extension": ".py",
            "mimetype": "text/x-python",
            "name": "python",
            "nbconvert_exporter": "python",
            "pygments_lexer": "ipython3",
            "version": "3.9.12"
        }
    },
    "nbformat": 4,
    "nbformat_minor": 1
}